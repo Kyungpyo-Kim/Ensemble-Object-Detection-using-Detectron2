{
 "cells": [
  {
   "cell_type": "markdown",
   "metadata": {},
   "source": [
    "# Ensemble of Object Detection Models based on Detectron2"
   ]
  },
  {
   "cell_type": "markdown",
   "metadata": {},
   "source": [
    "## Prepare Development Environment\n",
    "1. Installation\n",
    "    ```bash\n",
    "    sudo apt-get install -y python3-dev python3-venv\n",
    "    python3 -m venv env\n",
    "    source env/bin/activate\n",
    "    python -m pip install pip -U\n",
    "    python -m pip install -r requirements.txt\n",
    "    python -m ipykernel install --user --name env --display-name ensemble_detectron2\n",
    "    ```"
   ]
  },
  {
   "cell_type": "markdown",
   "metadata": {},
   "source": [
    "## Utilize Detection Results"
   ]
  },
  {
   "cell_type": "code",
   "execution_count": 1,
   "metadata": {},
   "outputs": [],
   "source": [
    "!unzip results.zip\n",
    "!wget -c http://images.cocodataset.org/annotations/annotations_trainval2017.zip\n",
    "!unzip annotations_trainval2017.zip\n",
    "!rm annotations_trainval2017.zip"
   ]
  },
  {
   "cell_type": "markdown",
   "metadata": {},
   "source": [
    "## Import Modules"
   ]
  },
  {
   "cell_type": "code",
   "execution_count": 1,
   "metadata": {},
   "outputs": [],
   "source": [
    "import torch\n",
    "from tqdm import tqdm\n",
    "\n",
    "from pycocotools.coco import COCO\n",
    "from pycocotools.cocoeval import COCOeval\n",
    "\n",
    "import ensemble_boxes"
   ]
  },
  {
   "cell_type": "markdown",
   "metadata": {},
   "source": [
    "## Evaluate Baseline Models\n",
    "### Load Detection Results and Ground Truth"
   ]
  },
  {
   "cell_type": "code",
   "execution_count": 2,
   "metadata": {},
   "outputs": [
    {
     "name": "stdout",
     "output_type": "stream",
     "text": [
      "loading annotations into memory...\n",
      "Done (t=0.46s)\n",
      "creating index...\n",
      "index created!\n",
      "Loading and preparing results...\n",
      "DONE (t=1.46s)\n",
      "creating index...\n",
      "index created!\n",
      "Loading and preparing results...\n",
      "DONE (t=1.22s)\n",
      "creating index...\n",
      "index created!\n",
      "Loading and preparing results...\n",
      "DONE (t=2.73s)\n",
      "creating index...\n",
      "index created!\n"
     ]
    }
   ],
   "source": [
    "gt_path = \"./annotations/instances_val2017.json\"\n",
    "coco_gt = COCO(gt_path)\n",
    "\n",
    "dt_paths = [\n",
    "    \"./results/faster_rcnn_R_50_C4_1x/coco_instances_results.json\",\n",
    "    \"./results/faster_rcnn_R_50_DC5_1x/coco_instances_results.json\",\n",
    "    \"./results/retinanet_R_50_FPN_1x/coco_instances_results.json\",\n",
    "]\n",
    "\n",
    "coco_dts = [coco_gt.loadRes(dt_path) for dt_path in dt_paths]\n",
    "img_ids = coco_gt.getImgIds()"
   ]
  },
  {
   "cell_type": "markdown",
   "metadata": {},
   "source": [
    "### Evaluate Baseline Models"
   ]
  },
  {
   "cell_type": "code",
   "execution_count": 5,
   "metadata": {},
   "outputs": [
    {
     "name": "stdout",
     "output_type": "stream",
     "text": [
      "\n",
      "================================================================\n",
      "\n",
      "./results/faster_rcnn_R_50_C4_1x/coco_instances_results.json\n",
      "\n",
      "================================================================\n",
      "\n",
      "Running per image evaluation...\n",
      "Evaluate annotation type *bbox*\n",
      "DONE (t=21.60s).\n",
      "Accumulating evaluation results...\n",
      "DONE (t=3.47s).\n",
      " Average Precision  (AP) @[ IoU=0.50:0.95 | area=   all | maxDets=100 ] = 0.357\n",
      " Average Precision  (AP) @[ IoU=0.50      | area=   all | maxDets=100 ] = 0.561\n",
      " Average Precision  (AP) @[ IoU=0.75      | area=   all | maxDets=100 ] = 0.380\n",
      " Average Precision  (AP) @[ IoU=0.50:0.95 | area= small | maxDets=100 ] = 0.192\n",
      " Average Precision  (AP) @[ IoU=0.50:0.95 | area=medium | maxDets=100 ] = 0.409\n",
      " Average Precision  (AP) @[ IoU=0.50:0.95 | area= large | maxDets=100 ] = 0.487\n",
      " Average Recall     (AR) @[ IoU=0.50:0.95 | area=   all | maxDets=  1 ] = 0.311\n",
      " Average Recall     (AR) @[ IoU=0.50:0.95 | area=   all | maxDets= 10 ] = 0.485\n",
      " Average Recall     (AR) @[ IoU=0.50:0.95 | area=   all | maxDets=100 ] = 0.506\n",
      " Average Recall     (AR) @[ IoU=0.50:0.95 | area= small | maxDets=100 ] = 0.310\n",
      " Average Recall     (AR) @[ IoU=0.50:0.95 | area=medium | maxDets=100 ] = 0.563\n",
      " Average Recall     (AR) @[ IoU=0.50:0.95 | area= large | maxDets=100 ] = 0.663\n",
      "\n",
      "================================================================\n",
      "\n",
      "\n",
      "================================================================\n",
      "\n",
      "./results/faster_rcnn_R_50_DC5_1x/coco_instances_results.json\n",
      "\n",
      "================================================================\n",
      "\n",
      "Running per image evaluation...\n",
      "Evaluate annotation type *bbox*\n",
      "DONE (t=20.27s).\n",
      "Accumulating evaluation results...\n",
      "DONE (t=3.36s).\n",
      " Average Precision  (AP) @[ IoU=0.50:0.95 | area=   all | maxDets=100 ] = 0.373\n",
      " Average Precision  (AP) @[ IoU=0.50      | area=   all | maxDets=100 ] = 0.587\n",
      " Average Precision  (AP) @[ IoU=0.75      | area=   all | maxDets=100 ] = 0.397\n",
      " Average Precision  (AP) @[ IoU=0.50:0.95 | area= small | maxDets=100 ] = 0.201\n",
      " Average Precision  (AP) @[ IoU=0.50:0.95 | area=medium | maxDets=100 ] = 0.417\n",
      " Average Precision  (AP) @[ IoU=0.50:0.95 | area= large | maxDets=100 ] = 0.500\n",
      " Average Recall     (AR) @[ IoU=0.50:0.95 | area=   all | maxDets=  1 ] = 0.313\n",
      " Average Recall     (AR) @[ IoU=0.50:0.95 | area=   all | maxDets= 10 ] = 0.488\n",
      " Average Recall     (AR) @[ IoU=0.50:0.95 | area=   all | maxDets=100 ] = 0.511\n",
      " Average Recall     (AR) @[ IoU=0.50:0.95 | area= small | maxDets=100 ] = 0.299\n",
      " Average Recall     (AR) @[ IoU=0.50:0.95 | area=medium | maxDets=100 ] = 0.565\n",
      " Average Recall     (AR) @[ IoU=0.50:0.95 | area= large | maxDets=100 ] = 0.670\n",
      "\n",
      "================================================================\n",
      "\n",
      "\n",
      "================================================================\n",
      "\n",
      "./results/retinanet_R_50_FPN_1x/coco_instances_results.json\n",
      "\n",
      "================================================================\n",
      "\n",
      "Running per image evaluation...\n",
      "Evaluate annotation type *bbox*\n",
      "DONE (t=32.23s).\n",
      "Accumulating evaluation results...\n",
      "DONE (t=5.92s).\n",
      " Average Precision  (AP) @[ IoU=0.50:0.95 | area=   all | maxDets=100 ] = 0.374\n",
      " Average Precision  (AP) @[ IoU=0.50      | area=   all | maxDets=100 ] = 0.567\n",
      " Average Precision  (AP) @[ IoU=0.75      | area=   all | maxDets=100 ] = 0.403\n",
      " Average Precision  (AP) @[ IoU=0.50:0.95 | area= small | maxDets=100 ] = 0.231\n",
      " Average Precision  (AP) @[ IoU=0.50:0.95 | area=medium | maxDets=100 ] = 0.416\n",
      " Average Precision  (AP) @[ IoU=0.50:0.95 | area= large | maxDets=100 ] = 0.483\n",
      " Average Recall     (AR) @[ IoU=0.50:0.95 | area=   all | maxDets=  1 ] = 0.319\n",
      " Average Recall     (AR) @[ IoU=0.50:0.95 | area=   all | maxDets= 10 ] = 0.518\n",
      " Average Recall     (AR) @[ IoU=0.50:0.95 | area=   all | maxDets=100 ] = 0.551\n",
      " Average Recall     (AR) @[ IoU=0.50:0.95 | area= small | maxDets=100 ] = 0.372\n",
      " Average Recall     (AR) @[ IoU=0.50:0.95 | area=medium | maxDets=100 ] = 0.592\n",
      " Average Recall     (AR) @[ IoU=0.50:0.95 | area= large | maxDets=100 ] = 0.701\n",
      "\n",
      "================================================================\n",
      "\n"
     ]
    }
   ],
   "source": [
    "for idx, coco_dt in enumerate(coco_dts):\n",
    "    print(\"\\n================================================================\\n\")\n",
    "    print(dt_paths[idx])\n",
    "    print(\"\\n================================================================\\n\")\n",
    "\n",
    "    coco_eval = COCOeval(coco_gt, coco_dt, \"bbox\")\n",
    "    coco_eval.evaluate()\n",
    "    coco_eval.accumulate()\n",
    "    coco_eval.summarize()\n",
    "    \n",
    "    print(\"\\n================================================================\\n\")\n"
   ]
  },
  {
   "cell_type": "markdown",
   "metadata": {},
   "source": [
    "## Box mAP of Baseline Models\n",
    "\n",
    "| Baselines                   | Box AP @(IoU=0.50:0.95, area=all, maxDets=100) |\n",
    "|-----------------------------|------|\n",
    "|faster_rcnn_R_50_C4_1x.yaml  | 0.357|\n",
    "|faster_rcnn_R_50_DC5_1x.yaml | 0.373|\n",
    "|retinanet_R_50_FPN_1x.yaml   | 0.374|"
   ]
  },
  {
   "cell_type": "markdown",
   "metadata": {},
   "source": [
    "## Ensemble using Weighted Boxes Fusion Method"
   ]
  },
  {
   "cell_type": "code",
   "execution_count": 6,
   "metadata": {},
   "outputs": [
    {
     "name": "stdout",
     "output_type": "stream",
     "text": [
      "\n",
      "================================================================\n",
      "\n",
      "Ensemble using Weighted Boxes Fusion\n",
      "iou thr: 0.7, skip_box_thr: 0.0001\n",
      "\n",
      "================================================================\n",
      "\n",
      "Loading and preparing results...\n",
      "DONE (t=3.40s)\n",
      "creating index...\n",
      "index created!\n",
      "Running per image evaluation...\n",
      "Evaluate annotation type *bbox*\n",
      "DONE (t=40.61s).\n",
      "Accumulating evaluation results...\n",
      "DONE (t=7.61s).\n",
      " Average Precision  (AP) @[ IoU=0.50:0.95 | area=   all | maxDets=100 ] = 0.403\n",
      " Average Precision  (AP) @[ IoU=0.50      | area=   all | maxDets=100 ] = 0.601\n",
      " Average Precision  (AP) @[ IoU=0.75      | area=   all | maxDets=100 ] = 0.443\n",
      " Average Precision  (AP) @[ IoU=0.50:0.95 | area= small | maxDets=100 ] = 0.243\n",
      " Average Precision  (AP) @[ IoU=0.50:0.95 | area=medium | maxDets=100 ] = 0.453\n",
      " Average Precision  (AP) @[ IoU=0.50:0.95 | area= large | maxDets=100 ] = 0.528\n",
      " Average Recall     (AR) @[ IoU=0.50:0.95 | area=   all | maxDets=  1 ] = 0.334\n",
      " Average Recall     (AR) @[ IoU=0.50:0.95 | area=   all | maxDets= 10 ] = 0.545\n",
      " Average Recall     (AR) @[ IoU=0.50:0.95 | area=   all | maxDets=100 ] = 0.588\n",
      " Average Recall     (AR) @[ IoU=0.50:0.95 | area= small | maxDets=100 ] = 0.416\n",
      " Average Recall     (AR) @[ IoU=0.50:0.95 | area=medium | maxDets=100 ] = 0.638\n",
      " Average Recall     (AR) @[ IoU=0.50:0.95 | area= large | maxDets=100 ] = 0.737\n",
      "\n",
      "================================================================\n",
      "\n"
     ]
    }
   ],
   "source": [
    "# parameters\n",
    "iou_thr = 0.7\n",
    "skip_box_thr = 0.0001\n",
    "\n",
    "print(\"\\n================================================================\\n\")\n",
    "print(\"Ensemble using Weighted Boxes Fusion\")\n",
    "print(f\"iou thr: {iou_thr}, skip_box_thr: {skip_box_thr}\")\n",
    "print(\"\\n================================================================\\n\")\n",
    "\n",
    "ensemble = []\n",
    "cnt_id = 0\n",
    "for img_id in img_ids:\n",
    "    height = float(coco_gt.loadImgs(img_id)[0][\"height\"])\n",
    "    width = float(coco_gt.loadImgs(img_id)[0][\"width\"])\n",
    "\n",
    "    tmp_anns = []\n",
    "    boxes_list = []\n",
    "    scores_list = []\n",
    "    labels_list = []\n",
    "\n",
    "    for coco_dt in coco_dts:\n",
    "        boxes = []\n",
    "        scores = []\n",
    "        labels = []\n",
    "        for ann in coco_dt.imgToAnns[img_id]:\n",
    "            x1, y1 = ann[\"bbox\"][0], ann[\"bbox\"][1]\n",
    "            x2 = ann[\"bbox\"][0] + ann[\"bbox\"][2]\n",
    "            y2 = ann[\"bbox\"][1] + ann[\"bbox\"][3]\n",
    "            x1, x2 = x1/width, x2/width\n",
    "            y1, y2 = y1/height, y2/height\n",
    "\n",
    "            x1 = min(1.000, max(0.000, x1))\n",
    "            x2 = min(1.000, max(0.000, x2))\n",
    "            y1 = min(1.000, max(0.000, y1))\n",
    "            y2 = min(1.000, max(0.000, y2))\n",
    "                \n",
    "            boxes.append([x1,y1,x2,y2])\n",
    "            scores.append(ann[\"score\"])\n",
    "            labels.append(ann[\"category_id\"])\n",
    "\n",
    "        boxes_list.append(boxes)\n",
    "        scores_list.append(scores)\n",
    "        labels_list.append(labels)\n",
    "    \n",
    "    boxes, scores, labels = ensemble_boxes.weighted_boxes_fusion(\n",
    "                                            boxes_list, \n",
    "                                            scores_list, \n",
    "                                            labels_list, \n",
    "                                            weights=None, \n",
    "                                            iou_thr=iou_thr, \n",
    "                                            skip_box_thr=skip_box_thr)\n",
    "\n",
    "    for box, score, label in zip(boxes, scores, labels):\n",
    "        x1, y1, x2, y2 = box\n",
    "        \n",
    "        x1 *= width\n",
    "        x2 *= width\n",
    "        y1 *= height\n",
    "        y2 *= height\n",
    "\n",
    "        ann = dict(\n",
    "            image_id=img_id,\n",
    "            category_id=label,\n",
    "            bbox=[x1, y1, x2-x1, y2-y1],\n",
    "            score=score,\n",
    "            id=cnt_id,\n",
    "        )\n",
    "\n",
    "        ensemble.append(ann)\n",
    "        \n",
    "        cnt_id += 1\n",
    "\n",
    "coco_ensemble = coco_gt.loadRes(ensemble)\n",
    "coco_eval = COCOeval(coco_gt, coco_ensemble, \"bbox\")\n",
    "coco_eval.evaluate()\n",
    "coco_eval.accumulate()\n",
    "coco_eval.summarize()\n",
    "print(\"\\n================================================================\\n\")"
   ]
  },
  {
   "cell_type": "markdown",
   "metadata": {},
   "source": [
    "## Results\n",
    "\n",
    "| Models                   | Box AP @(IoU=0.50:0.95, area=all, maxDets=100) |\n",
    "|-----------------------------|------|\n",
    "|faster_rcnn_R_50_C4_1x.yaml  | 0.357|\n",
    "|faster_rcnn_R_50_DC5_1x.yaml | 0.373|\n",
    "|retinanet_R_50_FPN_1x.yaml   | 0.374|\n",
    "|__Ensemble Model__   | __*0.403 (+0.029)*__|"
   ]
  }
 ],
 "metadata": {
  "kernelspec": {
   "display_name": "Python 3.8.10 ('env': venv)",
   "language": "python",
   "name": "python3"
  },
  "language_info": {
   "codemirror_mode": {
    "name": "ipython",
    "version": 3
   },
   "file_extension": ".py",
   "mimetype": "text/x-python",
   "name": "python",
   "nbconvert_exporter": "python",
   "pygments_lexer": "ipython3",
   "version": "3.8.10"
  },
  "orig_nbformat": 4,
  "vscode": {
   "interpreter": {
    "hash": "7a7cd6bd6adba24856cb99037131169106d508c2430b6d3766fea104d49690de"
   }
  }
 },
 "nbformat": 4,
 "nbformat_minor": 2
}
